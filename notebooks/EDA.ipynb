{
 "cells": [
  {
   "cell_type": "markdown",
   "metadata": {},
   "source": [
    "# Data Analysis and EDA"
   ]
  },
  {
   "cell_type": "code",
   "execution_count": 187,
   "metadata": {},
   "outputs": [],
   "source": [
    "import pandas as pd\n",
    "import numpy as np\n",
    "import re\n",
    "import matplotlib as plt\n",
    "import os"
   ]
  },
  {
   "cell_type": "code",
   "execution_count": 188,
   "metadata": {},
   "outputs": [],
   "source": [
    "\n",
    "# total_count = 0\n",
    "# for dataset in os.listdir('../data/stackechange_csv'):\n",
    "#     for chunk in pd.read_csv(f'../data/stackechange_csv/{dataset}', delimiter=',', chunksize=10_000):\n",
    "#         count = len(chunk.index)\n",
    "#         total_count += count\n",
    "#     print(total_count)\n",
    "# print(total_count)"
   ]
  },
  {
   "cell_type": "code",
   "execution_count": null,
   "metadata": {},
   "outputs": [],
   "source": []
  },
  {
   "cell_type": "code",
   "execution_count": 189,
   "metadata": {},
   "outputs": [
    {
     "data": {
      "text/plain": [
       "Id                 int64\n",
       "PostTypeId         int64\n",
       "ParentId         float64\n",
       "CreationDate      object\n",
       "Score              int64\n",
       "ViewCount        float64\n",
       "FavoriteCount    float64\n",
       "Title             object\n",
       "Body              object\n",
       "Tags              object\n",
       "Topic             object\n",
       "dtype: object"
      ]
     },
     "execution_count": 189,
     "metadata": {},
     "output_type": "execute_result"
    }
   ],
   "source": [
    "df = pd.read_csv('../data/stackechange_csv/datascience.stackexchange.com-posts.csv', sep=',')\n",
    "df.dtypes"
   ]
  },
  {
   "cell_type": "code",
   "execution_count": 190,
   "metadata": {},
   "outputs": [
    {
     "data": {
      "text/plain": [
       "(72871, 11)"
      ]
     },
     "execution_count": 190,
     "metadata": {},
     "output_type": "execute_result"
    }
   ],
   "source": [
    "df.shape"
   ]
  },
  {
   "cell_type": "code",
   "execution_count": 191,
   "metadata": {},
   "outputs": [
    {
     "data": {
      "text/html": [
       "<div>\n",
       "<style scoped>\n",
       "    .dataframe tbody tr th:only-of-type {\n",
       "        vertical-align: middle;\n",
       "    }\n",
       "\n",
       "    .dataframe tbody tr th {\n",
       "        vertical-align: top;\n",
       "    }\n",
       "\n",
       "    .dataframe thead th {\n",
       "        text-align: right;\n",
       "    }\n",
       "</style>\n",
       "<table border=\"1\" class=\"dataframe\">\n",
       "  <thead>\n",
       "    <tr style=\"text-align: right;\">\n",
       "      <th></th>\n",
       "      <th>Id</th>\n",
       "      <th>PostTypeId</th>\n",
       "      <th>ParentId</th>\n",
       "      <th>CreationDate</th>\n",
       "      <th>Score</th>\n",
       "      <th>ViewCount</th>\n",
       "      <th>FavoriteCount</th>\n",
       "      <th>Title</th>\n",
       "      <th>Body</th>\n",
       "      <th>Tags</th>\n",
       "      <th>Topic</th>\n",
       "    </tr>\n",
       "  </thead>\n",
       "  <tbody>\n",
       "    <tr>\n",
       "      <th>0</th>\n",
       "      <td>5</td>\n",
       "      <td>1</td>\n",
       "      <td>NaN</td>\n",
       "      <td>2014-05-13T23:58:30.457</td>\n",
       "      <td>9</td>\n",
       "      <td>862.0</td>\n",
       "      <td>1.0</td>\n",
       "      <td>How can I do simple machine learning without h...</td>\n",
       "      <td>&lt;p&gt;I've always been interested in machine lear...</td>\n",
       "      <td>&lt;machine-learning&gt;</td>\n",
       "      <td>datascience</td>\n",
       "    </tr>\n",
       "    <tr>\n",
       "      <th>1</th>\n",
       "      <td>7</td>\n",
       "      <td>1</td>\n",
       "      <td>NaN</td>\n",
       "      <td>2014-05-14T00:11:06.457</td>\n",
       "      <td>4</td>\n",
       "      <td>469.0</td>\n",
       "      <td>1.0</td>\n",
       "      <td>What open-source books (or other materials) pr...</td>\n",
       "      <td>&lt;p&gt;As a researcher and instructor, I'm looking...</td>\n",
       "      <td>&lt;education&gt;&lt;open-source&gt;</td>\n",
       "      <td>datascience</td>\n",
       "    </tr>\n",
       "    <tr>\n",
       "      <th>2</th>\n",
       "      <td>9</td>\n",
       "      <td>2</td>\n",
       "      <td>5.0</td>\n",
       "      <td>2014-05-14T00:36:31.077</td>\n",
       "      <td>5</td>\n",
       "      <td>NaN</td>\n",
       "      <td>NaN</td>\n",
       "      <td>NaN</td>\n",
       "      <td>&lt;p&gt;Not sure if this fits the scope of this SE,...</td>\n",
       "      <td>NaN</td>\n",
       "      <td>datascience</td>\n",
       "    </tr>\n",
       "    <tr>\n",
       "      <th>3</th>\n",
       "      <td>10</td>\n",
       "      <td>2</td>\n",
       "      <td>7.0</td>\n",
       "      <td>2014-05-14T00:53:43.273</td>\n",
       "      <td>13</td>\n",
       "      <td>NaN</td>\n",
       "      <td>NaN</td>\n",
       "      <td>NaN</td>\n",
       "      <td>&lt;p&gt;One book that's freely available is \"The El...</td>\n",
       "      <td>NaN</td>\n",
       "      <td>datascience</td>\n",
       "    </tr>\n",
       "    <tr>\n",
       "      <th>4</th>\n",
       "      <td>14</td>\n",
       "      <td>1</td>\n",
       "      <td>NaN</td>\n",
       "      <td>2014-05-14T01:25:59.677</td>\n",
       "      <td>26</td>\n",
       "      <td>1884.0</td>\n",
       "      <td>6.0</td>\n",
       "      <td>Is Data Science the Same as Data Mining?</td>\n",
       "      <td>&lt;p&gt;I am sure data science as will be discussed...</td>\n",
       "      <td>&lt;data-mining&gt;&lt;definitions&gt;</td>\n",
       "      <td>datascience</td>\n",
       "    </tr>\n",
       "  </tbody>\n",
       "</table>\n",
       "</div>"
      ],
      "text/plain": [
       "   Id  PostTypeId  ParentId             CreationDate  Score  ViewCount  \\\n",
       "0   5           1       NaN  2014-05-13T23:58:30.457      9      862.0   \n",
       "1   7           1       NaN  2014-05-14T00:11:06.457      4      469.0   \n",
       "2   9           2       5.0  2014-05-14T00:36:31.077      5        NaN   \n",
       "3  10           2       7.0  2014-05-14T00:53:43.273     13        NaN   \n",
       "4  14           1       NaN  2014-05-14T01:25:59.677     26     1884.0   \n",
       "\n",
       "   FavoriteCount                                              Title  \\\n",
       "0            1.0  How can I do simple machine learning without h...   \n",
       "1            1.0  What open-source books (or other materials) pr...   \n",
       "2            NaN                                                NaN   \n",
       "3            NaN                                                NaN   \n",
       "4            6.0           Is Data Science the Same as Data Mining?   \n",
       "\n",
       "                                                Body  \\\n",
       "0  <p>I've always been interested in machine lear...   \n",
       "1  <p>As a researcher and instructor, I'm looking...   \n",
       "2  <p>Not sure if this fits the scope of this SE,...   \n",
       "3  <p>One book that's freely available is \"The El...   \n",
       "4  <p>I am sure data science as will be discussed...   \n",
       "\n",
       "                         Tags        Topic  \n",
       "0          <machine-learning>  datascience  \n",
       "1    <education><open-source>  datascience  \n",
       "2                         NaN  datascience  \n",
       "3                         NaN  datascience  \n",
       "4  <data-mining><definitions>  datascience  "
      ]
     },
     "execution_count": 191,
     "metadata": {},
     "output_type": "execute_result"
    }
   ],
   "source": [
    "# get first 5 rows \n",
    "df.head()"
   ]
  },
  {
   "cell_type": "code",
   "execution_count": 192,
   "metadata": {},
   "outputs": [
    {
     "data": {
      "text/plain": [
       "Id               72871\n",
       "PostTypeId       72871\n",
       "ParentId         37803\n",
       "CreationDate     72871\n",
       "Score            72871\n",
       "ViewCount        34395\n",
       "FavoriteCount     8786\n",
       "Title            34395\n",
       "Body             72705\n",
       "Tags             34395\n",
       "Topic            72871\n",
       "dtype: int64"
      ]
     },
     "execution_count": 192,
     "metadata": {},
     "output_type": "execute_result"
    }
   ],
   "source": [
    "# dataset size\n",
    "df.count()"
   ]
  },
  {
   "cell_type": "code",
   "execution_count": 193,
   "metadata": {},
   "outputs": [
    {
     "data": {
      "text/plain": [
       "72871"
      ]
     },
     "execution_count": 193,
     "metadata": {},
     "output_type": "execute_result"
    }
   ],
   "source": [
    "df['Id'].count()"
   ]
  },
  {
   "cell_type": "code",
   "execution_count": 194,
   "metadata": {},
   "outputs": [],
   "source": [
    "df2 = df[df['PostTypeId'].isin([1.0, 2.0])]"
   ]
  },
  {
   "cell_type": "code",
   "execution_count": 195,
   "metadata": {},
   "outputs": [
    {
     "data": {
      "text/plain": [
       "<AxesSubplot:title={'center':'Distribuzione per tipologia'}, xlabel='PostType', ylabel='Count'>"
      ]
     },
     "execution_count": 195,
     "metadata": {},
     "output_type": "execute_result"
    },
    {
     "data": {
      "image/png": "[encoded data removed]",
      "text/plain": [
       "<Figure size 1080x432 with 1 Axes>"
      ]
     },
     "metadata": {
      "needs_background": "light"
     },
     "output_type": "display_data"
    }
   ],
   "source": [
    "\n",
    "colors = plt.cm.tab10(np.arange(2))\n",
    "# df2['PostTypeId'].value_counts().sort_index().plot(kind='bar', figsize=(15, 6), rot=0, color=colors)\n",
    "df2 = df[df['PostTypeId'].isin([1.0, 2.0])]\n",
    "counts = df2['PostTypeId'].value_counts().sort_index()\n",
    "# df3['Type'] = ['Questions', 'Answers']\n",
    "questions_answers_dist_df = pd.DataFrame({ 'PostType': ['Questions', 'Answers'], 'Count': counts})\n",
    "questions_answers_dist_df.plot(kind='bar', x='PostType', y='Count', figsize=(15, 6), rot=0, color=colors, legend=False, ylabel='Count', title='Distribuzione per tipologia')\n"
   ]
  },
  {
   "cell_type": "code",
   "execution_count": 196,
   "metadata": {},
   "outputs": [
    {
     "data": {
      "text/plain": [
       "35068"
      ]
     },
     "execution_count": 196,
     "metadata": {},
     "output_type": "execute_result"
    }
   ],
   "source": [
    "df['ParentId'].isna().sum()"
   ]
  },
  {
   "cell_type": "code",
   "execution_count": 197,
   "metadata": {},
   "outputs": [
    {
     "data": {
      "text/plain": [
       "Id               34395\n",
       "PostTypeId       34395\n",
       "ParentId             0\n",
       "CreationDate     34395\n",
       "Score            34395\n",
       "ViewCount        34395\n",
       "FavoriteCount     8786\n",
       "Title            34395\n",
       "Body             34395\n",
       "Tags             34395\n",
       "Topic            34395\n",
       "dtype: int64"
      ]
     },
     "execution_count": 197,
     "metadata": {},
     "output_type": "execute_result"
    }
   ],
   "source": [
    "df[df['PostTypeId'] == 1].count()"
   ]
  },
  {
   "cell_type": "code",
   "execution_count": 198,
   "metadata": {},
   "outputs": [
    {
     "data": {
      "text/plain": [
       "<AxesSubplot:title={'center':'Distribuzione per anno di pubblicazione'}, xlabel='CreationDate'>"
      ]
     },
     "execution_count": 198,
     "metadata": {},
     "output_type": "execute_result"
    },
    {
     "data": {
      "image/png": "[encoded data removed]",
      "text/plain": [
       "<Figure size 1080x432 with 1 Axes>"
      ]
     },
     "metadata": {
      "needs_background": "light"
     },
     "output_type": "display_data"
    }
   ],
   "source": [
    "df['CreationDate'] = pd.to_datetime(df['CreationDate'])\n",
    "df_count = df.groupby(df['CreationDate'].dt.year).size()\n",
    "df_count.plot(kind='line', figsize=(15, 6), title='Distribuzione per anno di pubblicazione')"
   ]
  },
  {
   "cell_type": "code",
   "execution_count": 199,
   "metadata": {},
   "outputs": [
    {
     "data": {
      "text/plain": [
       "count    72871.000000\n",
       "mean         2.045738\n",
       "std          6.258718\n",
       "min         -6.000000\n",
       "25%          0.000000\n",
       "50%          1.000000\n",
       "75%          2.000000\n",
       "max        439.000000\n",
       "Name: Score, dtype: float64"
      ]
     },
     "execution_count": 199,
     "metadata": {},
     "output_type": "execute_result"
    }
   ],
   "source": [
    "df['Score'].describe()"
   ]
  },
  {
   "cell_type": "code",
   "execution_count": 200,
   "metadata": {},
   "outputs": [
    {
     "data": {
      "text/plain": [
       "<AxesSubplot:>"
      ]
     },
     "execution_count": 200,
     "metadata": {},
     "output_type": "execute_result"
    },
    {
     "data": {
      "image/png": "[encoded data removed]",
      "text/plain": [
       "<Figure size 1080x432 with 1 Axes>"
      ]
     },
     "metadata": {
      "needs_background": "light"
     },
     "output_type": "display_data"
    }
   ],
   "source": [
    "df['Score'].value_counts()[:10].plot(kind='bar', figsize=(15, 6), rot=0)"
   ]
  },
  {
   "cell_type": "code",
   "execution_count": 201,
   "metadata": {},
   "outputs": [],
   "source": [
    "df['Body'].fillna('', inplace=True)\n",
    "df['Title'].fillna('', inplace=True)\n",
    "df['Tags'].fillna('', inplace=True)\n"
   ]
  },
  {
   "cell_type": "code",
   "execution_count": 202,
   "metadata": {},
   "outputs": [],
   "source": [
    "# Convert Tags format <Tag1><Tag2> to List format [tag1, tag2, ...]\n",
    "def tags_to_list(string):\n",
    "    string = str(string)\n",
    "    tags = []\n",
    "    curr_tag = ''\n",
    "    for s in string:\n",
    "        curr_tag += s\n",
    "        if s == '<':\n",
    "            curr_tag = ''\n",
    "        if s == '>':\n",
    "            tags.append(re.sub('<|>', '', curr_tag))\n",
    "    return tags\n",
    "\n",
    "df['TagsList'] = df['Tags'].apply(tags_to_list)"
   ]
  },
  {
   "cell_type": "code",
   "execution_count": 203,
   "metadata": {},
   "outputs": [],
   "source": [
    "# Add new column for post body length\n",
    "df['BodyLength'] = df['Body'].apply(lambda x: len(str(x)))"
   ]
  },
  {
   "cell_type": "code",
   "execution_count": 204,
   "metadata": {},
   "outputs": [
    {
     "data": {
      "text/plain": [
       "count    72871.000000\n",
       "mean      1097.529703\n",
       "std       1191.039059\n",
       "min          0.000000\n",
       "25%        461.000000\n",
       "50%        784.000000\n",
       "75%       1327.000000\n",
       "max      32461.000000\n",
       "Name: BodyLength, dtype: float64"
      ]
     },
     "execution_count": 204,
     "metadata": {},
     "output_type": "execute_result"
    }
   ],
   "source": [
    "# Plot body length distribution\n",
    "df['BodyLength'].describe()\n",
    "# df['BodyLength'].plot(kind='hist')"
   ]
  },
  {
   "cell_type": "code",
   "execution_count": 205,
   "metadata": {},
   "outputs": [
    {
     "data": {
      "text/plain": [
       "0        166\n",
       "524       85\n",
       "376       80\n",
       "408       79\n",
       "452       79\n",
       "        ... \n",
       "8911       1\n",
       "5424       1\n",
       "23801      1\n",
       "6920       1\n",
       "3151       1\n",
       "Name: BodyLength, Length: 5139, dtype: int64"
      ]
     },
     "execution_count": 205,
     "metadata": {},
     "output_type": "execute_result"
    }
   ],
   "source": [
    "df['BodyLength'].value_counts()"
   ]
  },
  {
   "cell_type": "code",
   "execution_count": 206,
   "metadata": {},
   "outputs": [
    {
     "data": {
      "text/plain": [
       "0         533\n",
       "1         339\n",
       "2        1037\n",
       "3         519\n",
       "4         411\n",
       "         ... \n",
       "72866     923\n",
       "72867     312\n",
       "72868    2323\n",
       "72869     668\n",
       "72870     261\n",
       "Name: BodyLength, Length: 72871, dtype: int64"
      ]
     },
     "execution_count": 206,
     "metadata": {},
     "output_type": "execute_result"
    }
   ],
   "source": [
    "df['BodyLength'].dropna()"
   ]
  },
  {
   "cell_type": "code",
   "execution_count": 207,
   "metadata": {},
   "outputs": [
    {
     "name": "stdout",
     "output_type": "stream",
     "text": [
      "Working on column: BodyLength\n"
     ]
    },
    {
     "data": {
      "text/plain": [
       "count    72505.000000\n",
       "mean      1047.928777\n",
       "std        911.463560\n",
       "min          0.000000\n",
       "25%        460.000000\n",
       "50%        780.000000\n",
       "75%       1313.000000\n",
       "max       7051.000000\n",
       "Name: BodyLength, dtype: float64"
      ]
     },
     "execution_count": 207,
     "metadata": {},
     "output_type": "execute_result"
    }
   ],
   "source": [
    "def remove_outliers(df,columns,n_std):\n",
    "    for col in columns:\n",
    "        print('Working on column: {}'.format(col))\n",
    "        \n",
    "        mean = df[col].mean()\n",
    "        sd = df[col].std()\n",
    "        \n",
    "        df = df[(df[col] <= mean+(n_std*sd))]\n",
    "        \n",
    "    return df\n",
    "\n",
    "df = remove_outliers(df, ['BodyLength'], 5)\n",
    "\n",
    "df['BodyLength'].describe()"
   ]
  },
  {
   "cell_type": "code",
   "execution_count": 226,
   "metadata": {},
   "outputs": [
    {
     "data": {
      "image/png": "[encoded data removed]",
      "text/plain": [
       "<Figure size 1080x432 with 1 Axes>"
      ]
     },
     "metadata": {
      "needs_background": "light"
     },
     "output_type": "display_data"
    }
   ],
   "source": [
    "plot = df.hist(column='BodyLength', bins=25, figsize=(15, 6), sharey=True, sharex=True)"
   ]
  },
  {
   "cell_type": "code",
   "execution_count": 180,
   "metadata": {},
   "outputs": [
    {
     "name": "stdout",
     "output_type": "stream",
     "text": [
      "False\n",
      "38376\n",
      "177\n"
     ]
    }
   ],
   "source": [
    "# Duplicated posts by Id, Title, Body\n",
    "print(df.duplicated('Id').any())\n",
    "print(df.duplicated('Title').sum())\n",
    "print(df.duplicated('Body').sum())"
   ]
  },
  {
   "cell_type": "code",
   "execution_count": 181,
   "metadata": {},
   "outputs": [
    {
     "data": {
      "text/plain": [
       "(0, 13)"
      ]
     },
     "execution_count": 181,
     "metadata": {},
     "output_type": "execute_result"
    }
   ],
   "source": [
    "df[df['Tags'] == '<discussion>'].shape"
   ]
  },
  {
   "cell_type": "code",
   "execution_count": 182,
   "metadata": {},
   "outputs": [
    {
     "name": "stdout",
     "output_type": "stream",
     "text": [
      "machine-learning    10607\n",
      "python               6250\n",
      "deep-learning        4558\n",
      "neural-network       4144\n",
      "classification       3064\n",
      "                    ...  \n",
      "feedback-loop           1\n",
      "pymc3                   1\n",
      "sprint                  1\n",
      "learnability            1\n",
      "hessian-matrix          1\n",
      "Name: TagsList, Length: 660, dtype: int64\n"
     ]
    },
    {
     "data": {
      "text/plain": [
       "<AxesSubplot:>"
      ]
     },
     "execution_count": 182,
     "metadata": {},
     "output_type": "execute_result"
    },
    {
     "data": {
      "image/png": "[encoded data removed]",
      "text/plain": [
       "<Figure size 1080x432 with 1 Axes>"
      ]
     },
     "metadata": {
      "needs_background": "light"
     },
     "output_type": "display_data"
    }
   ],
   "source": [
    "# Values counts on each Tag\n",
    "print(df['TagsList'].explode().value_counts())\n",
    "\n",
    "# Top 15 tags by numerosity\n",
    "df['TagsList'].explode().value_counts().sort_values(ascending=False)[:15].plot(kind='bar', figsize=(15, 6))"
   ]
  },
  {
   "cell_type": "code",
   "execution_count": 183,
   "metadata": {},
   "outputs": [],
   "source": [
    "# df['TagsList'].explode().value_counts().plot(kind='hist')"
   ]
  },
  {
   "cell_type": "code",
   "execution_count": 184,
   "metadata": {},
   "outputs": [
    {
     "data": {
      "text/plain": [
       "(22042,)"
      ]
     },
     "execution_count": 184,
     "metadata": {},
     "output_type": "execute_result"
    }
   ],
   "source": [
    "df['Tags'].unique().shape"
   ]
  },
  {
   "cell_type": "code",
   "execution_count": 185,
   "metadata": {},
   "outputs": [
    {
     "data": {
      "text/plain": [
       "<AxesSubplot:>"
      ]
     },
     "execution_count": 185,
     "metadata": {},
     "output_type": "execute_result"
    },
    {
     "data": {
      "image/png": "[encoded data removed]",
      "text/plain": [
       "<Figure size 1080x432 with 1 Axes>"
      ]
     },
     "metadata": {
      "needs_background": "light"
     },
     "output_type": "display_data"
    }
   ],
   "source": [
    "d = {'Word2Vec': [0.53], 'Doc2Vec': [0.70], 'FastText': [0.57], 'LSI': [0.57], 'BERT': [0.82], 'RoBERTa': [0.84]}\n",
    "df = pd.DataFrame(data=d)\n",
    "df.plot(kind='bar', edgecolor='white', linewidth=2, figsize=(15, 6))"
   ]
  }
 ],
 "metadata": {
  "kernelspec": {
   "display_name": "Python 3",
   "language": "python",
   "name": "python3"
  },
  "language_info": {
   "codemirror_mode": {
    "name": "ipython",
    "version": 3
   },
   "file_extension": ".py",
   "mimetype": "text/x-python",
   "name": "python",
   "nbconvert_exporter": "python",
   "pygments_lexer": "ipython3",
   "version": "3.9.5"
  },
  "orig_nbformat": 4,
  "vscode": {
   "interpreter": {
    "hash": "81794d4967e6c3204c66dcd87b604927b115b27c00565d3d43f05ba2f3a2cb0d"
   }
  }
 },
 "nbformat": 4,
 "nbformat_minor": 2
}
