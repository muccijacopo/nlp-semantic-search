{
 "cells": [
  {
   "cell_type": "code",
   "execution_count": 1,
   "metadata": {},
   "outputs": [],
   "source": [
    "import pandas as pd"
   ]
  },
  {
   "cell_type": "code",
   "execution_count": 2,
   "metadata": {},
   "outputs": [
    {
     "data": {
      "text/html": [
       "<div>\n",
       "<style scoped>\n",
       "    .dataframe tbody tr th:only-of-type {\n",
       "        vertical-align: middle;\n",
       "    }\n",
       "\n",
       "    .dataframe tbody tr th {\n",
       "        vertical-align: top;\n",
       "    }\n",
       "\n",
       "    .dataframe thead th {\n",
       "        text-align: right;\n",
       "    }\n",
       "</style>\n",
       "<table border=\"1\" class=\"dataframe\">\n",
       "  <thead>\n",
       "    <tr style=\"text-align: right;\">\n",
       "      <th></th>\n",
       "      <th>Id</th>\n",
       "      <th>PostTypeId</th>\n",
       "      <th>ParentId</th>\n",
       "      <th>CreationDate</th>\n",
       "      <th>Score</th>\n",
       "      <th>ViewCount</th>\n",
       "      <th>FavoriteCount</th>\n",
       "      <th>Title</th>\n",
       "      <th>Body</th>\n",
       "      <th>Tags</th>\n",
       "      <th>Topic</th>\n",
       "    </tr>\n",
       "  </thead>\n",
       "  <tbody>\n",
       "    <tr>\n",
       "      <th>2958</th>\n",
       "      <td>7432</td>\n",
       "      <td>1</td>\n",
       "      <td>NaN</td>\n",
       "      <td>2018-08-11T18:57:15.147</td>\n",
       "      <td>7</td>\n",
       "      <td>243.0</td>\n",
       "      <td>NaN</td>\n",
       "      <td>What are the differences between Pale Ale (PA)...</td>\n",
       "      <td>&lt;p&gt;I am wondering because I want to brew these...</td>\n",
       "      <td>&lt;brewing&gt;&lt;specialty-beers&gt;&lt;craft-beers&gt;&lt;hops&gt;</td>\n",
       "      <td>beer</td>\n",
       "    </tr>\n",
       "  </tbody>\n",
       "</table>\n",
       "</div>"
      ],
      "text/plain": [
       "        Id  PostTypeId  ParentId             CreationDate  Score  ViewCount  \\\n",
       "2958  7432           1       NaN  2018-08-11T18:57:15.147      7      243.0   \n",
       "\n",
       "      FavoriteCount                                              Title  \\\n",
       "2958            NaN  What are the differences between Pale Ale (PA)...   \n",
       "\n",
       "                                                   Body  \\\n",
       "2958  <p>I am wondering because I want to brew these...   \n",
       "\n",
       "                                               Tags Topic  \n",
       "2958  <brewing><specialty-beers><craft-beers><hops>  beer  "
      ]
     },
     "execution_count": 2,
     "metadata": {},
     "output_type": "execute_result"
    }
   ],
   "source": [
    "df = pd.read_csv('../data/stackechange_csv/beer.stackexchange.com-posts.csv', sep=',')\n",
    "df[df['Id'] == 7432]"
   ]
  },
  {
   "cell_type": "code",
   "execution_count": 7,
   "metadata": {},
   "outputs": [
    {
     "data": {
      "text/plain": [
       "17"
      ]
     },
     "execution_count": 7,
     "metadata": {},
     "output_type": "execute_result"
    }
   ],
   "source": [
    "df2 = df[df['Tags'].notna()]\n",
    "len(df2[df2['Tags'].str.contains('<hops>')])\n",
    "# df2[df2['Tags'].str.contains('<hops>')]\n",
    "\n"
   ]
  }
 ],
 "metadata": {
  "kernelspec": {
   "display_name": "venv",
   "language": "python",
   "name": "python3"
  },
  "language_info": {
   "codemirror_mode": {
    "name": "ipython",
    "version": 3
   },
   "file_extension": ".py",
   "mimetype": "text/x-python",
   "name": "python",
   "nbconvert_exporter": "python",
   "pygments_lexer": "ipython3",
   "version": "3.9.5"
  },
  "orig_nbformat": 4,
  "vscode": {
   "interpreter": {
    "hash": "97a897b907aca9de517e1c4566981d80522cd2a1ee1dc0b9152c2c980090622f"
   }
  }
 },
 "nbformat": 4,
 "nbformat_minor": 2
}
