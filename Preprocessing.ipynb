{
 "cells": [
  {
   "cell_type": "code",
   "execution_count": 165,
   "metadata": {},
   "outputs": [],
   "source": [
    "import pandas as pd\n",
    "import numpy as np\n",
    "import re\n",
    "import nltk"
   ]
  },
  {
   "cell_type": "code",
   "execution_count": 166,
   "metadata": {},
   "outputs": [
    {
     "name": "stderr",
     "output_type": "stream",
     "text": [
      "[nltk_data] Downloading package punkt to\n",
      "[nltk_data]     C:\\Users\\Jacopo\\AppData\\Roaming\\nltk_data...\n",
      "[nltk_data]   Package punkt is already up-to-date!\n"
     ]
    },
    {
     "data": {
      "text/plain": [
       "True"
      ]
     },
     "execution_count": 166,
     "metadata": {},
     "output_type": "execute_result"
    }
   ],
   "source": [
    "# Download stopwords dataset\n",
    "nltk.download('punkt')\n"
   ]
  },
  {
   "cell_type": "code",
   "execution_count": 267,
   "metadata": {},
   "outputs": [
    {
     "data": {
      "text/plain": [
       "Id                 int64\n",
       "PostTypeId         int64\n",
       "CreationDate      object\n",
       "Score              int64\n",
       "ViewCount        float64\n",
       "FavoriteCount    float64\n",
       "Title             object\n",
       "Body              object\n",
       "Tags              object\n",
       "dtype: object"
      ]
     },
     "execution_count": 267,
     "metadata": {},
     "output_type": "execute_result"
    }
   ],
   "source": [
    "df = pd.read_csv('./data/stackechange_csv/beer.stackexchange.com-posts.csv', sep=',')\n",
    "df.dtypes"
   ]
  },
  {
   "cell_type": "code",
   "execution_count": 268,
   "metadata": {},
   "outputs": [],
   "source": [
    "df['Body'].fillna('', inplace=True)\n",
    "df['Title'].fillna('', inplace=True)\n",
    "df['Tags'].fillna('', inplace=True)"
   ]
  },
  {
   "cell_type": "code",
   "execution_count": 269,
   "metadata": {},
   "outputs": [],
   "source": [
    "def remove_html(column):\n",
    "  df[column] = df[column].str.replace('<.{1,6}>', '')\n",
    "\n",
    "def apply_lowercase(column):\n",
    "  df[column] = df[column].str.lower()\n",
    "\n",
    "def remove_not_alpha(column):\n",
    "  df[column] = df[column].str.replace('\\W', ' ')\n",
    "\n",
    "def preprocess_body(column):\n",
    "  remove_html(column)\n",
    "  apply_lowercase(column)\n",
    "  remove_not_alpha(column)\n",
    "  # df[column] = df[column].str.replace('<', '<')\\\n",
    "  #                                         .str.replace('>', '>')\\\n",
    "  #                                         .str.replace('≤', '<=' )\\\n",
    "  #                                         .str.replace('≥', '>=')\n",
    "\n",
    "  # 2. remove latex i,e., mostly formulas since it's mathematics based dataset\n",
    "  #df[column] = [re.sub('\\$.*?\\$', '', i) for i in text]\n",
    "\n",
    "  # 3. all lowercase \n",
    "  # df[column] = df[column].str.lower()\n",
    "\n",
    "  # 4. decontractions\n",
    "  # df[column] = df[column].str.replace(\"won't\", \"will not\").str.replace(\"can\\'t\", \"can not\").str.replace(\"n\\'t\", \" not\").str.replace(\"\\'re\", \" are\").str.\\\n",
    "  #                                               replace(\"\\'s\", \" is\").str.replace(\"\\'d\", \" would\").str.replace(\"\\'ll\", \" will\").str.\\\n",
    "  #                                               replace(\"\\'t\", \" not\").str.replace(\"\\'ve\", \" have\").str.replace(\"\\'m\", \" am\")\n",
    "\n",
    "  # 5. remove all special-characters other than alpha-numericals\n",
    "  # df[column] = [re.sub('\\W', ' ', i) for i in text]\n",
    "\n",
    "  # 6. Stop_word removal\n",
    "  # df[column] = [stopwrd_removal(i) for i in text]\n",
    "\n",
    "  # 7. remove all white-space i.e., \\n, \\t, and extra_spaces\n",
    "  # df[column] = [re.sub('  +', ' ', i) for i in text]\n",
    "  # df[column] = df[column].str.replace(\"\\n\", \" \").str.replace(\"\\t\", \" \").str.strip()\n",
    "\n",
    "\n",
    "def preprocess_title(column):\n",
    "  remove_not_alpha(column)\n",
    "  apply_lowercase(column)"
   ]
  },
  {
   "cell_type": "code",
   "execution_count": 270,
   "metadata": {},
   "outputs": [
    {
     "name": "stderr",
     "output_type": "stream",
     "text": [
      "C:\\Users\\Jacopo\\AppData\\Local\\Temp\\ipykernel_7112\\3973966932.py:8: FutureWarning: The default value of regex will change from True to False in a future version.\n",
      "  df[column] = df[column].str.replace('\\W', ' ')\n",
      "C:\\Users\\Jacopo\\AppData\\Local\\Temp\\ipykernel_7112\\3973966932.py:2: FutureWarning: The default value of regex will change from True to False in a future version.\n",
      "  df[column] = df[column].str.replace('<.{1,6}>', '')\n"
     ]
    },
    {
     "data": {
      "text/html": [
       "<div>\n",
       "<style scoped>\n",
       "    .dataframe tbody tr th:only-of-type {\n",
       "        vertical-align: middle;\n",
       "    }\n",
       "\n",
       "    .dataframe tbody tr th {\n",
       "        vertical-align: top;\n",
       "    }\n",
       "\n",
       "    .dataframe thead th {\n",
       "        text-align: right;\n",
       "    }\n",
       "</style>\n",
       "<table border=\"1\" class=\"dataframe\">\n",
       "  <thead>\n",
       "    <tr style=\"text-align: right;\">\n",
       "      <th></th>\n",
       "      <th>Id</th>\n",
       "      <th>PostTypeId</th>\n",
       "      <th>CreationDate</th>\n",
       "      <th>Score</th>\n",
       "      <th>ViewCount</th>\n",
       "      <th>FavoriteCount</th>\n",
       "      <th>Title</th>\n",
       "      <th>Body</th>\n",
       "      <th>Tags</th>\n",
       "    </tr>\n",
       "  </thead>\n",
       "  <tbody>\n",
       "    <tr>\n",
       "      <th>0</th>\n",
       "      <td>1</td>\n",
       "      <td>1</td>\n",
       "      <td>2014-01-21T20:26:05.383</td>\n",
       "      <td>21</td>\n",
       "      <td>2438.0</td>\n",
       "      <td>NaN</td>\n",
       "      <td>what is a citra hop  and how does it differ fr...</td>\n",
       "      <td>i was offered a beer the other day that was re...</td>\n",
       "      <td>&lt;hops&gt;</td>\n",
       "    </tr>\n",
       "    <tr>\n",
       "      <th>1</th>\n",
       "      <td>2</td>\n",
       "      <td>1</td>\n",
       "      <td>2014-01-21T20:27:29.797</td>\n",
       "      <td>25</td>\n",
       "      <td>3158.0</td>\n",
       "      <td>NaN</td>\n",
       "      <td>when was the first beer ever brewed</td>\n",
       "      <td>as far as we know  when did humans first brew ...</td>\n",
       "      <td>&lt;history&gt;</td>\n",
       "    </tr>\n",
       "    <tr>\n",
       "      <th>2</th>\n",
       "      <td>3</td>\n",
       "      <td>1</td>\n",
       "      <td>2014-01-21T20:30:17.437</td>\n",
       "      <td>22</td>\n",
       "      <td>530.0</td>\n",
       "      <td>NaN</td>\n",
       "      <td>how is reduced alcoholic beer made</td>\n",
       "      <td>how is low no alcohol beer made  i m assuming ...</td>\n",
       "      <td>&lt;brewing&gt;</td>\n",
       "    </tr>\n",
       "    <tr>\n",
       "      <th>3</th>\n",
       "      <td>4</td>\n",
       "      <td>2</td>\n",
       "      <td>2014-01-21T20:31:18.540</td>\n",
       "      <td>15</td>\n",
       "      <td>NaN</td>\n",
       "      <td>NaN</td>\n",
       "      <td></td>\n",
       "      <td>citra is a registered trademark since 2007  ci...</td>\n",
       "      <td></td>\n",
       "    </tr>\n",
       "    <tr>\n",
       "      <th>4</th>\n",
       "      <td>5</td>\n",
       "      <td>1</td>\n",
       "      <td>2014-01-21T20:31:44.693</td>\n",
       "      <td>22</td>\n",
       "      <td>4028.0</td>\n",
       "      <td>4.0</td>\n",
       "      <td>what temperature should i serve my beer</td>\n",
       "      <td>in general  what s the best way to work out th...</td>\n",
       "      <td>&lt;serving&gt;&lt;temperature&gt;</td>\n",
       "    </tr>\n",
       "    <tr>\n",
       "      <th>...</th>\n",
       "      <td>...</td>\n",
       "      <td>...</td>\n",
       "      <td>...</td>\n",
       "      <td>...</td>\n",
       "      <td>...</td>\n",
       "      <td>...</td>\n",
       "      <td>...</td>\n",
       "      <td>...</td>\n",
       "      <td>...</td>\n",
       "    </tr>\n",
       "    <tr>\n",
       "      <th>3813</th>\n",
       "      <td>9500</td>\n",
       "      <td>2</td>\n",
       "      <td>2022-08-02T14:47:40.460</td>\n",
       "      <td>4</td>\n",
       "      <td>NaN</td>\n",
       "      <td>NaN</td>\n",
       "      <td></td>\n",
       "      <td>is there a standard for spirits and their deca...</td>\n",
       "      <td></td>\n",
       "    </tr>\n",
       "    <tr>\n",
       "      <th>3814</th>\n",
       "      <td>9504</td>\n",
       "      <td>2</td>\n",
       "      <td>2022-08-15T11:56:13.530</td>\n",
       "      <td>0</td>\n",
       "      <td>NaN</td>\n",
       "      <td>NaN</td>\n",
       "      <td></td>\n",
       "      <td>not an answer on pruning leaves but the first ...</td>\n",
       "      <td></td>\n",
       "    </tr>\n",
       "    <tr>\n",
       "      <th>3815</th>\n",
       "      <td>9508</td>\n",
       "      <td>2</td>\n",
       "      <td>2022-08-23T15:51:15.250</td>\n",
       "      <td>0</td>\n",
       "      <td>NaN</td>\n",
       "      <td>NaN</td>\n",
       "      <td></td>\n",
       "      <td>one of my old bosses turned me on to jumbo gre...</td>\n",
       "      <td></td>\n",
       "    </tr>\n",
       "    <tr>\n",
       "      <th>3816</th>\n",
       "      <td>9511</td>\n",
       "      <td>2</td>\n",
       "      <td>2022-09-13T20:43:50.437</td>\n",
       "      <td>1</td>\n",
       "      <td>NaN</td>\n",
       "      <td>NaN</td>\n",
       "      <td></td>\n",
       "      <td>i ve seen bottles of liquor strapped to dogs  ...</td>\n",
       "      <td></td>\n",
       "    </tr>\n",
       "    <tr>\n",
       "      <th>3817</th>\n",
       "      <td>9512</td>\n",
       "      <td>2</td>\n",
       "      <td>2022-09-18T22:44:03.513</td>\n",
       "      <td>0</td>\n",
       "      <td>NaN</td>\n",
       "      <td>NaN</td>\n",
       "      <td></td>\n",
       "      <td>i just returned from a two week vacation in ir...</td>\n",
       "      <td></td>\n",
       "    </tr>\n",
       "  </tbody>\n",
       "</table>\n",
       "<p>3818 rows × 9 columns</p>\n",
       "</div>"
      ],
      "text/plain": [
       "        Id  PostTypeId             CreationDate  Score  ViewCount  \\\n",
       "0        1           1  2014-01-21T20:26:05.383     21     2438.0   \n",
       "1        2           1  2014-01-21T20:27:29.797     25     3158.0   \n",
       "2        3           1  2014-01-21T20:30:17.437     22      530.0   \n",
       "3        4           2  2014-01-21T20:31:18.540     15        NaN   \n",
       "4        5           1  2014-01-21T20:31:44.693     22     4028.0   \n",
       "...    ...         ...                      ...    ...        ...   \n",
       "3813  9500           2  2022-08-02T14:47:40.460      4        NaN   \n",
       "3814  9504           2  2022-08-15T11:56:13.530      0        NaN   \n",
       "3815  9508           2  2022-08-23T15:51:15.250      0        NaN   \n",
       "3816  9511           2  2022-09-13T20:43:50.437      1        NaN   \n",
       "3817  9512           2  2022-09-18T22:44:03.513      0        NaN   \n",
       "\n",
       "      FavoriteCount                                              Title  \\\n",
       "0               NaN  what is a citra hop  and how does it differ fr...   \n",
       "1               NaN               when was the first beer ever brewed    \n",
       "2               NaN                how is reduced alcoholic beer made    \n",
       "3               NaN                                                      \n",
       "4               4.0           what temperature should i serve my beer    \n",
       "...             ...                                                ...   \n",
       "3813            NaN                                                      \n",
       "3814            NaN                                                      \n",
       "3815            NaN                                                      \n",
       "3816            NaN                                                      \n",
       "3817            NaN                                                      \n",
       "\n",
       "                                                   Body  \\\n",
       "0     i was offered a beer the other day that was re...   \n",
       "1     as far as we know  when did humans first brew ...   \n",
       "2     how is low no alcohol beer made  i m assuming ...   \n",
       "3     citra is a registered trademark since 2007  ci...   \n",
       "4     in general  what s the best way to work out th...   \n",
       "...                                                 ...   \n",
       "3813  is there a standard for spirits and their deca...   \n",
       "3814  not an answer on pruning leaves but the first ...   \n",
       "3815  one of my old bosses turned me on to jumbo gre...   \n",
       "3816  i ve seen bottles of liquor strapped to dogs  ...   \n",
       "3817  i just returned from a two week vacation in ir...   \n",
       "\n",
       "                        Tags  \n",
       "0                     <hops>  \n",
       "1                  <history>  \n",
       "2                  <brewing>  \n",
       "3                             \n",
       "4     <serving><temperature>  \n",
       "...                      ...  \n",
       "3813                          \n",
       "3814                          \n",
       "3815                          \n",
       "3816                          \n",
       "3817                          \n",
       "\n",
       "[3818 rows x 9 columns]"
      ]
     },
     "execution_count": 270,
     "metadata": {},
     "output_type": "execute_result"
    }
   ],
   "source": [
    "preprocess_title('Title')\n",
    "preprocess_body('Body')\n",
    "df"
   ]
  },
  {
   "cell_type": "code",
   "execution_count": 287,
   "metadata": {},
   "outputs": [
    {
     "data": {
      "text/plain": [
       "['when', 'was', 'the', 'first', 'beer', 'ever', 'brewed']"
      ]
     },
     "execution_count": 287,
     "metadata": {},
     "output_type": "execute_result"
    }
   ],
   "source": [
    "# Vocabulary construction\n",
    "sentences = []\n",
    "for title in df['Title'].values:\n",
    "    words = nltk.word_tokenize(title)\n",
    "    sentences.append(words)\n",
    "\n",
    "sentences[1]"
   ]
  },
  {
   "cell_type": "code",
   "execution_count": 288,
   "metadata": {},
   "outputs": [
    {
     "data": {
      "text/plain": [
       "['first', 'beer', 'ever', 'brewed']"
      ]
     },
     "execution_count": 288,
     "metadata": {},
     "output_type": "execute_result"
    }
   ],
   "source": [
    "# Remove stopwords from vocabulary\n",
    "from nltk.corpus import stopwords\n",
    "# stopwords.words('english')\n",
    "def remove_stopwords(words):\n",
    "    return [w for w in words if w not in stopwords.words('english')]\n",
    "\n",
    "sentences = [remove_stopwords(words) for words in sentences]\n",
    "    \n",
    "sentences[1]"
   ]
  },
  {
   "cell_type": "code",
   "execution_count": 316,
   "metadata": {},
   "outputs": [
    {
     "data": {
      "text/plain": [
       "[('name', 0.3637239933013916),\n",
       " ('whiskey', 0.26777559518814087),\n",
       " ('different', 0.23932719230651855),\n",
       " ('breweries', 0.2250223606824875),\n",
       " ('drinking', 0.22215844690799713),\n",
       " ('ipa', 0.21538133919239044),\n",
       " ('spirits', 0.21000239253044128),\n",
       " ('cocktail', 0.20445866882801056),\n",
       " ('south', 0.19659548997879028),\n",
       " ('vodka', 0.19637449085712433)]"
      ]
     },
     "execution_count": 316,
     "metadata": {},
     "output_type": "execute_result"
    }
   ],
   "source": [
    "# Word2Vec model\n",
    "from gensim.models import Word2Vec\n",
    "from gensim.test.utils import common_texts\n",
    "\n",
    "word2vec = Word2Vec(sentences, min_count=10)\n",
    "word2vec.wv.most_similar('beer')\n",
    "\n",
    "    "
   ]
  },
  {
   "cell_type": "code",
   "execution_count": 317,
   "metadata": {},
   "outputs": [
    {
     "name": "stdout",
     "output_type": "stream",
     "text": [
      "Similarity between sentence 1 and 3:  -0.024783865\n",
      "Similarity between sentence 2 and 3:  0.5173394\n"
     ]
    }
   ],
   "source": [
    "# Word2Vec similarity\n",
    "def word2vec_similarity(model, ws1, ws2):\n",
    "    \"\"\"Compute cosine similarity between two sets of words.\"\"\"\n",
    "    return model.wv.n_similarity(ws1, ws2)\n",
    "\n",
    "print(f'Similarity between sentence 1 and 3: ', word2vec_similarity(word2vec, sentences[0], sentences[2]))\n",
    "print(f'Similarity between sentence 2 and 3: ', word2vec_similarity(word2vec, sentences[1], sentences[2]))\n"
   ]
  },
  {
   "cell_type": "code",
   "execution_count": null,
   "metadata": {},
   "outputs": [],
   "source": []
  },
  {
   "cell_type": "code",
   "execution_count": 174,
   "metadata": {},
   "outputs": [],
   "source": [
    "#df['Body']"
   ]
  },
  {
   "cell_type": "code",
   "execution_count": null,
   "metadata": {},
   "outputs": [],
   "source": []
  },
  {
   "cell_type": "code",
   "execution_count": 175,
   "metadata": {},
   "outputs": [],
   "source": [
    "# TODO: Numerical features encoding"
   ]
  }
 ],
 "metadata": {
  "kernelspec": {
   "display_name": "Python 3.9.5 ('venv': venv)",
   "language": "python",
   "name": "python3"
  },
  "language_info": {
   "codemirror_mode": {
    "name": "ipython",
    "version": 3
   },
   "file_extension": ".py",
   "mimetype": "text/x-python",
   "name": "python",
   "nbconvert_exporter": "python",
   "pygments_lexer": "ipython3",
   "version": "3.9.5"
  },
  "orig_nbformat": 4,
  "vscode": {
   "interpreter": {
    "hash": "97a897b907aca9de517e1c4566981d80522cd2a1ee1dc0b9152c2c980090622f"
   }
  }
 },
 "nbformat": 4,
 "nbformat_minor": 2
}
