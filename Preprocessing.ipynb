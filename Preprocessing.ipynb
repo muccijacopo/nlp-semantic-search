{
 "cells": [
  {
   "cell_type": "code",
   "execution_count": 1,
   "metadata": {},
   "outputs": [],
   "source": [
    "import pandas as pd\n",
    "import numpy as np\n",
    "import re"
   ]
  },
  {
   "cell_type": "code",
   "execution_count": 2,
   "metadata": {},
   "outputs": [
    {
     "data": {
      "text/plain": [
       "Id                 int64\n",
       "PostTypeId         int64\n",
       "CreationDate      object\n",
       "Score              int64\n",
       "ViewCount        float64\n",
       "FavoriteCount    float64\n",
       "Title             object\n",
       "Body              object\n",
       "Tags              object\n",
       "dtype: object"
      ]
     },
     "execution_count": 2,
     "metadata": {},
     "output_type": "execute_result"
    }
   ],
   "source": [
    "df = pd.read_csv('./data/stackechange_csv/es.stackoverflow.com-posts.csv', sep=',')\n",
    "df.dtypes  "
   ]
  },
  {
   "cell_type": "code",
   "execution_count": 3,
   "metadata": {},
   "outputs": [],
   "source": [
    "df['Body'].fillna('', inplace=True)\n",
    "df['Title'].fillna('', inplace=True)\n",
    "df['Tags'].fillna('', inplace=True)"
   ]
  },
  {
   "cell_type": "code",
   "execution_count": null,
   "metadata": {},
   "outputs": [],
   "source": [
    "def preprocess_body(column):\n",
    "  # 1. remove html tags, html urls, replace html comparison operators\n",
    "  text = df[column].values\n",
    "  df[column] = [re.sub('<.*?>', '', i) for i in text]\n",
    "  df[column] = df[column].str.replace('<', '<')\\\n",
    "                                          .str.replace('>', '>')\\\n",
    "                                          .str.replace('≤', '<=' )\\\n",
    "                                          .str.replace('≥', '>=')\n",
    "\n",
    "  # 2. remove latex i,e., mostly formulas since it's mathematics based dataset\n",
    "  df[column] = [re.sub('\\$.*?\\$', '', i) for i in text]\n",
    "\n",
    "  # 3. all lowercase \n",
    "  df[column] = df[column].str.lower()\n",
    "\n",
    "  # 4. decontractions\n",
    "  df[column] = df[column].str.replace(\"won't\", \"will not\").str.replace(\"can\\'t\", \"can not\").str.replace(\"n\\'t\", \" not\").str.replace(\"\\'re\", \" are\").str.\\\n",
    "                                                replace(\"\\'s\", \" is\").str.replace(\"\\'d\", \" would\").str.replace(\"\\'ll\", \" will\").str.\\\n",
    "                                                replace(\"\\'t\", \" not\").str.replace(\"\\'ve\", \" have\").str.replace(\"\\'m\", \" am\")\n",
    "\n",
    "  # 5. remove all special-characters other than alpha-numericals\n",
    "  df[column] = [re.sub('\\W', ' ', i) for i in text]\n",
    "\n",
    "  # 6. Stop_word removal\n",
    "  df[column] = [stopwrd_removal(i) for i in text]\n",
    "\n",
    "  # 7. remove all white-space i.e., \\n, \\t, and extra_spaces\n",
    "  df[column] = [re.sub('  +', ' ', i) for i in text]\n",
    "  df[column] = df[column].str.replace(\"\\n\", \" \").str.replace(\"\\t\", \" \").str.strip()"
   ]
  },
  {
   "cell_type": "code",
   "execution_count": 7,
   "metadata": {},
   "outputs": [],
   "source": [
    "def preprocess_title(column):\n",
    "   text = df[column].values\n",
    "   df[column] = [re.sub('\\$.*?\\$', '', i) for i in text]\n",
    "   df[column] = df[column].str.lower()\n",
    "   df[column] = df[column].str.replace(\"won't\", \"will not\").str.replace(\"can\\'t\", \"can not\").str.replace(\"n\\'t\", \" not\").str.replace(\"\\'re\", \" are\").str.replace(\"\\'s\", \" is\").str.replace(\"\\'d\", \" would\").str.replace(\"\\'ll\", \" will\").str.replace(\"\\'t\", \" not\").str.replace(\"\\'ve\", \" have\").str.replace(\"\\'m\", \" am\")\n",
    "\n",
    "   df[column] = [re.sub('\\W', ' ', i) for i in text]\n",
    "   df[column] = [re.sub('  +', ' ', i) for i in text]\n",
    "   df[column] = df[column].str.replace(\"\\n\", \" \").str.replace(\"\\t\", \" \").str.strip()\n"
   ]
  },
  {
   "cell_type": "code",
   "execution_count": 5,
   "metadata": {},
   "outputs": [],
   "source": [
    "# TODO: use stopwords from nltk\n",
    "stop_words = []\n",
    "def stopwrd_removal(sent):\n",
    "  lst = []\n",
    "  for wrd in sent.split():\n",
    "    if wrd not in stop_words:\n",
    "      lst.append(wrd)\n",
    "  return \" \".join(lst)"
   ]
  },
  {
   "cell_type": "code",
   "execution_count": null,
   "metadata": {},
   "outputs": [],
   "source": [
    "# TODO: Numerical features encoding"
   ]
  }
 ],
 "metadata": {
  "kernelspec": {
   "display_name": "Python 3.9.5 64-bit",
   "language": "python",
   "name": "python3"
  },
  "language_info": {
   "codemirror_mode": {
    "name": "ipython",
    "version": 3
   },
   "file_extension": ".py",
   "mimetype": "text/x-python",
   "name": "python",
   "nbconvert_exporter": "python",
   "pygments_lexer": "ipython3",
   "version": "3.9.5"
  },
  "orig_nbformat": 4,
  "vscode": {
   "interpreter": {
    "hash": "81794d4967e6c3204c66dcd87b604927b115b27c00565d3d43f05ba2f3a2cb0d"
   }
  }
 },
 "nbformat": 4,
 "nbformat_minor": 2
}
