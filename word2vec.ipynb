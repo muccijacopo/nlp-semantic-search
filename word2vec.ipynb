{
 "cells": [
  {
   "cell_type": "code",
   "execution_count": 1,
   "metadata": {},
   "outputs": [],
   "source": [
    "import gensim\n",
    "\n",
    "from models import Model"
   ]
  },
  {
   "cell_type": "code",
   "execution_count": 14,
   "metadata": {},
   "outputs": [
    {
     "data": {
      "text/plain": [
       "[('logistic', 0.8156089782714844),\n",
       " ('polynomial', 0.7015455961227417),\n",
       " ('zq6bq', 0.6952859163284302),\n",
       " ('logisitic', 0.6794884204864502),\n",
       " ('parametric', 0.64430832862854),\n",
       " ('0qcyg', 0.6419199705123901),\n",
       " ('ridge', 0.6322296261787415),\n",
       " ('83hl5', 0.6301988959312439),\n",
       " ('multilinear', 0.6218649744987488),\n",
       " ('isotonic', 0.5982930064201355)]"
      ]
     },
     "execution_count": 14,
     "metadata": {},
     "output_type": "execute_result"
    }
   ],
   "source": [
    "lsi:gensim.models.Doc2Vec = gensim.models.Doc2Vec.load(f\"{'models/stored_models'}/{'datascience'}_{'doc2vec'}_gensim.model\")\n",
    "lsi.wv.most_similar(positive=['linear'])"
   ]
  }
 ],
 "metadata": {
  "kernelspec": {
   "display_name": "Python 3.9.5 ('venv': venv)",
   "language": "python",
   "name": "python3"
  },
  "language_info": {
   "codemirror_mode": {
    "name": "ipython",
    "version": 3
   },
   "file_extension": ".py",
   "mimetype": "text/x-python",
   "name": "python",
   "nbconvert_exporter": "python",
   "pygments_lexer": "ipython3",
   "version": "3.9.5 (tags/v3.9.5:0a7dcbd, May  3 2021, 17:27:52) [MSC v.1928 64 bit (AMD64)]"
  },
  "orig_nbformat": 4,
  "vscode": {
   "interpreter": {
    "hash": "97a897b907aca9de517e1c4566981d80522cd2a1ee1dc0b9152c2c980090622f"
   }
  }
 },
 "nbformat": 4,
 "nbformat_minor": 2
}
