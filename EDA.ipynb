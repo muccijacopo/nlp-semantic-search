{
 "cells": [
  {
   "cell_type": "markdown",
   "metadata": {},
   "source": [
    "# Data Analysis and EDA"
   ]
  },
  {
   "cell_type": "code",
   "execution_count": 74,
   "metadata": {},
   "outputs": [],
   "source": [
    "import pandas as pd\n",
    "import numpy as np\n",
    "import re"
   ]
  },
  {
   "cell_type": "code",
   "execution_count": 75,
   "metadata": {},
   "outputs": [
    {
     "data": {
      "text/plain": [
       "Id                 int64\n",
       "PostTypeId         int64\n",
       "CreationDate      object\n",
       "Score              int64\n",
       "ViewCount        float64\n",
       "FavoriteCount    float64\n",
       "Title             object\n",
       "Body              object\n",
       "Tags              object\n",
       "dtype: object"
      ]
     },
     "execution_count": 75,
     "metadata": {},
     "output_type": "execute_result"
    }
   ],
   "source": [
    "df = pd.read_csv('./data/stackechange_csv/es.stackoverflow.com-posts.csv', sep=',')\n",
    "df.dtypes  "
   ]
  },
  {
   "cell_type": "code",
   "execution_count": 76,
   "metadata": {},
   "outputs": [],
   "source": [
    "df['Body'].fillna('', inplace=True)\n",
    "df['Title'].fillna('', inplace=True)\n",
    "df['Tags'].fillna('', inplace=True)\n"
   ]
  },
  {
   "cell_type": "code",
   "execution_count": 77,
   "metadata": {},
   "outputs": [],
   "source": [
    "# Convert Tags format <Tag1><Tag2> to List format [tag1, tag2, ...]\n",
    "def tags_to_list(string):\n",
    "    string = str(string)\n",
    "    tags = []\n",
    "    curr_tag = ''\n",
    "    for s in string:\n",
    "        curr_tag += s\n",
    "        if s == '<':\n",
    "            curr_tag = ''\n",
    "        if s == '>':\n",
    "            tags.append(re.sub('<|>', '', curr_tag))\n",
    "    return tags\n",
    "\n",
    "df['TagsList'] = df['Tags'].apply(tags_to_list)"
   ]
  },
  {
   "cell_type": "code",
   "execution_count": 78,
   "metadata": {},
   "outputs": [],
   "source": [
    "# Add new column for post body length\n",
    "df['BodyLength'] = df['Body'].apply(lambda x: len(str(x)))"
   ]
  },
  {
   "cell_type": "code",
   "execution_count": 79,
   "metadata": {},
   "outputs": [
    {
     "data": {
      "text/plain": [
       "count    382763.000000\n",
       "mean       1564.523313\n",
       "std        2122.463665\n",
       "min           0.000000\n",
       "25%         500.000000\n",
       "50%         944.000000\n",
       "75%        1800.000000\n",
       "max       46640.000000\n",
       "Name: BodyLength, dtype: float64"
      ]
     },
     "execution_count": 79,
     "metadata": {},
     "output_type": "execute_result"
    }
   ],
   "source": [
    "# Plot body length distribution\n",
    "df['BodyLength'].describe()\n",
    "# df['BodyLength'].plot(kind='hist')"
   ]
  },
  {
   "cell_type": "code",
   "execution_count": 80,
   "metadata": {},
   "outputs": [
    {
     "name": "stdout",
     "output_type": "stream",
     "text": [
      "False\n",
      "True\n",
      "True\n"
     ]
    }
   ],
   "source": [
    "# Duplicated posts by Id, Title, Body\n",
    "print(df.duplicated('Id').any())\n",
    "print(df.duplicated('Title').any())\n",
    "print(df.duplicated('Body').any())"
   ]
  },
  {
   "cell_type": "code",
   "execution_count": 81,
   "metadata": {},
   "outputs": [
    {
     "data": {
      "text/plain": [
       "Id                    0\n",
       "PostTypeId            0\n",
       "CreationDate          0\n",
       "Score                 0\n",
       "ViewCount        200652\n",
       "FavoriteCount    361224\n",
       "Title                 0\n",
       "Body                  0\n",
       "Tags                  0\n",
       "TagsList              0\n",
       "BodyLength            0\n",
       "dtype: int64"
      ]
     },
     "execution_count": 81,
     "metadata": {},
     "output_type": "execute_result"
    }
   ],
   "source": [
    "# Null values\n",
    "df.isna().sum()"
   ]
  },
  {
   "cell_type": "code",
   "execution_count": 82,
   "metadata": {},
   "outputs": [
    {
     "data": {
      "text/plain": [
       "(21539, 11)"
      ]
     },
     "execution_count": 82,
     "metadata": {},
     "output_type": "execute_result"
    }
   ],
   "source": [
    "# FavoriteCount not NaN rows\n",
    "df[df['FavoriteCount'].notna()].shape"
   ]
  },
  {
   "cell_type": "code",
   "execution_count": 83,
   "metadata": {},
   "outputs": [],
   "source": [
    "# df[df['Tags'] == '<discussion>'].shape"
   ]
  },
  {
   "cell_type": "code",
   "execution_count": 84,
   "metadata": {},
   "outputs": [
    {
     "data": {
      "text/plain": [
       "<AxesSubplot:>"
      ]
     },
     "execution_count": 84,
     "metadata": {},
     "output_type": "execute_result"
    },
    {
     "data": {
      "image/png": "[encoded data removed]",
      "text/plain": [
       "<Figure size 1080x432 with 1 Axes>"
      ]
     },
     "metadata": {
      "needs_background": "light"
     },
     "output_type": "display_data"
    }
   ],
   "source": [
    "# Values counts on each Tag\n",
    "df['TagsList'].explode().value_counts()\n",
    "\n",
    "# Top 15 tags by numerosity\n",
    "df['TagsList'].explode().value_counts().sort_values(ascending=False)[:15].plot(kind='bar', figsize=(15, 6))"
   ]
  },
  {
   "cell_type": "code",
   "execution_count": 100,
   "metadata": {},
   "outputs": [],
   "source": [
    "# df['TagsList'].explode().value_counts().plot(kind='hist')"
   ]
  },
  {
   "cell_type": "code",
   "execution_count": 86,
   "metadata": {},
   "outputs": [
    {
     "data": {
      "text/plain": [
       "(31357,)"
      ]
     },
     "execution_count": 86,
     "metadata": {},
     "output_type": "execute_result"
    }
   ],
   "source": [
    "df['Tags'].unique().shape"
   ]
  }
 ],
 "metadata": {
  "kernelspec": {
   "display_name": "Python 3.9.5 64-bit",
   "language": "python",
   "name": "python3"
  },
  "language_info": {
   "codemirror_mode": {
    "name": "ipython",
    "version": 3
   },
   "file_extension": ".py",
   "mimetype": "text/x-python",
   "name": "python",
   "nbconvert_exporter": "python",
   "pygments_lexer": "ipython3",
   "version": "3.9.5"
  },
  "orig_nbformat": 4,
  "vscode": {
   "interpreter": {
    "hash": "81794d4967e6c3204c66dcd87b604927b115b27c00565d3d43f05ba2f3a2cb0d"
   }
  }
 },
 "nbformat": 4,
 "nbformat_minor": 2
}
